{
  "metadata": {
    "kernelspec": {
      "name": "python",
      "display_name": "Python (Pyodide)",
      "language": "python"
    },
    "language_info": {
      "codemirror_mode": {
        "name": "python",
        "version": 3
      },
      "file_extension": ".py",
      "mimetype": "text/x-python",
      "name": "python",
      "nbconvert_exporter": "python",
      "pygments_lexer": "ipython3",
      "version": "3.8"
    }
  },
  "nbformat_minor": 4,
  "nbformat": 4,
  "cells": [
    {
      "cell_type": "markdown",
      "source": "## Data Science Tools And EcoSystem",
      "metadata": {}
    },
    {
      "cell_type": "markdown",
      "source": "##### In this notebook,Data Science Tools And EcoSystem are summarised",
      "metadata": {}
    },
    {
      "cell_type": "markdown",
      "source": "##### Some of the popular languages Data Scientists use are:\n##### 1.Python\n##### 2.R\n##### 3.SQL\n##### 4.Java\n##### 5.Julia\n##### 6.Scala\n##### 7.C/C++\n##### 8.JavaScript\n##### 9.Swift\n##### 10.Go\n##### 11.MATLAB\n##### 12.SAS etc...",
      "metadata": {}
    },
    {
      "cell_type": "markdown",
      "source": "##### Some of the popular languages Data Scientists use are:\n##### 1.Python\n##### 2.R\n##### 3.SQL\n##### 4.Java\n##### 5.Julia\n##### 6.Scala\n##### 7.C/C++\n##### 8.JavaScript\n##### 9.Swift\n##### 10.Go\n##### 11.MATLAB\n##### 12.SAS etc...",
      "metadata": {}
    },
    {
      "cell_type": "markdown",
      "source": "|DataScience Tools are:|\n|---|\n|SAS|\n|Apache Spark|\n|TensorFlow|\n|Excel|\n|Jupyter|",
      "metadata": {}
    },
    {
      "cell_type": "markdown",
      "source": "##### Below are a few examples of evaluating arithmetic expressions in Python",
      "metadata": {}
    },
    {
      "cell_type": "code",
      "source": "This a simple arithmetic expression to mutiply then add integers\n(3*4)+5",
      "metadata": {
        "trusted": true
      },
      "outputs": [
        {
          "execution_count": 6,
          "output_type": "execute_result",
          "data": {
            "text/plain": "17"
          },
          "metadata": {}
        }
      ],
      "execution_count": 6
    },
    {
      "cell_type": "code",
      "source": "This will convert 200 minutes to hours by dividing by 60\n200/60",
      "metadata": {
        "trusted": true
      },
      "outputs": [
        {
          "execution_count": 8,
          "output_type": "execute_result",
          "data": {
            "text/plain": "3.3333333333333335"
          },
          "metadata": {}
        }
      ],
      "execution_count": 8
    },
    {
      "cell_type": "markdown",
      "source": "__Objectives__\n* List all popular languages for DataScience\n* List all popular libraries for DataScience\n* List of well known DataScience Tools\n* How to provide comments in the cells",
      "metadata": {}
    },
    {
      "cell_type": "markdown",
      "source": "##### Author\n##### Soumiya A",
      "metadata": {}
    }
  ]
}